{
 "cells": [
  {
   "cell_type": "code",
   "execution_count": 17,
   "metadata": {},
   "outputs": [],
   "source": [
    "# Dependencies\n",
    "import requests\n",
    "import json\n",
    "from pprint import pprint \n",
    "\n",
    "# Google developer API key\n",
    "from config import gkey\n",
    "\n",
    "# Target city\n",
    "target_city = \"Tallahassee, Florida\"\n",
    "\n",
    "# Build the endpoint URL\n",
    "target_url = ('https://maps.googleapis.com/maps/api/geocode/json?'\n",
    "    'address={0}&key={1}').format(target_city, gkey)\n"
   ]
  },
  {
   "cell_type": "code",
   "execution_count": 18,
   "metadata": {},
   "outputs": [
    {
     "name": "stdout",
     "output_type": "stream",
     "text": [
      "{'results': [{'address_components': [{'long_name': 'Tallahassee', 'short_name': 'Tallahassee', 'types': ['locality', 'political']}, {'long_name': 'Leon County', 'short_name': 'Leon County', 'types': ['administrative_area_level_2', 'political']}, {'long_name': 'Florida', 'short_name': 'FL', 'types': ['administrative_area_level_1', 'political']}, {'long_name': 'United States', 'short_name': 'US', 'types': ['country', 'political']}], 'formatted_address': 'Tallahassee, FL, USA', 'geometry': {'bounds': {'northeast': {'lat': 30.587337, 'lng': -84.129826}, 'southwest': {'lat': 30.34694199999999, 'lng': -84.3838858}}, 'location': {'lat': 30.4382559, 'lng': -84.28073289999999}, 'location_type': 'APPROXIMATE', 'viewport': {'northeast': {'lat': 30.587337, 'lng': -84.129826}, 'southwest': {'lat': 30.34694199999999, 'lng': -84.3838858}}}, 'place_id': 'ChIJU0sSh1GK7IgR-LH91HoH7us', 'types': ['locality', 'political']}], 'status': 'OK'}\n"
     ]
    }
   ],
   "source": [
    "# Run a request to endpoint and convert result to json\n",
    "geo_data = requests.get(target_url).json()\n",
    "\n",
    "# Print the json\n",
    "print(geo_data)"
   ]
  },
  {
   "cell_type": "code",
   "execution_count": 19,
   "metadata": {},
   "outputs": [
    {
     "name": "stdout",
     "output_type": "stream",
     "text": [
      "{'results': [{'address_components': [{'long_name': 'Tallahassee',\n",
      "                                      'short_name': 'Tallahassee',\n",
      "                                      'types': ['locality', 'political']},\n",
      "                                     {'long_name': 'Leon County',\n",
      "                                      'short_name': 'Leon County',\n",
      "                                      'types': ['administrative_area_level_2',\n",
      "                                                'political']},\n",
      "                                     {'long_name': 'Florida',\n",
      "                                      'short_name': 'FL',\n",
      "                                      'types': ['administrative_area_level_1',\n",
      "                                                'political']},\n",
      "                                     {'long_name': 'United States',\n",
      "                                      'short_name': 'US',\n",
      "                                      'types': ['country', 'political']}],\n",
      "              'formatted_address': 'Tallahassee, FL, USA',\n",
      "              'geometry': {'bounds': {'northeast': {'lat': 30.587337,\n",
      "                                                    'lng': -84.129826},\n",
      "                                      'southwest': {'lat': 30.34694199999999,\n",
      "                                                    'lng': -84.3838858}},\n",
      "                           'location': {'lat': 30.4382559,\n",
      "                                        'lng': -84.28073289999999},\n",
      "                           'location_type': 'APPROXIMATE',\n",
      "                           'viewport': {'northeast': {'lat': 30.587337,\n",
      "                                                      'lng': -84.129826},\n",
      "                                        'southwest': {'lat': 30.34694199999999,\n",
      "                                                      'lng': -84.3838858}}},\n",
      "              'place_id': 'ChIJU0sSh1GK7IgR-LH91HoH7us',\n",
      "              'types': ['locality', 'political']}],\n",
      " 'status': 'OK'}\n"
     ]
    }
   ],
   "source": [
    "# Print the json (pretty printed)\n",
    "pprint(geo_data)"
   ]
  },
  {
   "cell_type": "code",
   "execution_count": 20,
   "metadata": {},
   "outputs": [
    {
     "name": "stdout",
     "output_type": "stream",
     "text": [
      "\n",
      "    City: Tallahassee, Florida\n",
      "    Latitude: 30.4382559\n",
      "    Longitude: -84.28073289999999\n",
      "    \n"
     ]
    }
   ],
   "source": [
    "# Extract latitude and longitude\n",
    "lat = geo_data[\"results\"][0][\"geometry\"][\"location\"][\"lat\"]\n",
    "lng = geo_data[\"results\"][0][\"geometry\"][\"location\"][\"lng\"]\n",
    "\n",
    "\n",
    "# Print the latitude and longitude\n",
    "\n",
    "print('''\n",
    "    City: {0}\n",
    "    Latitude: {1}\n",
    "    Longitude: {2}\n",
    "    '''.format(target_city, lat, lng))"
   ]
  }
 ],
 "metadata": {
  "kernelspec": {
   "display_name": "Python 3",
   "language": "python",
   "name": "python3"
  },
  "language_info": {
   "codemirror_mode": {
    "name": "ipython",
    "version": 3
   },
   "file_extension": ".py",
   "mimetype": "text/x-python",
   "name": "python",
   "nbconvert_exporter": "python",
   "pygments_lexer": "ipython3",
   "version": "3.7.3"
  }
 },
 "nbformat": 4,
 "nbformat_minor": 4
}
