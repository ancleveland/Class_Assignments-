{
 "cells": [
  {
   "cell_type": "markdown",
   "metadata": {},
   "source": [
    "# Banking and Poverty\n",
    "---\n",
    "The below script explores the relationship between states with high poverty rates and bank counts per state.\n",
    "\n",
    "In this script, we retrieved and plotted data from the 2013 US Census and Google Places API to show the relationship between various socioeconomic parameters and bank count across 700 randomly selected zip codes. We used Pandas, Numpy, Matplotlib, Requests, Census API, and Google API to accomplish our task."
   ]
  },
  {
   "cell_type": "code",
   "execution_count": 1,
   "metadata": {},
   "outputs": [],
   "source": [
    "# Dependencies\n",
    "from census import Census\n",
    "from config import (census_key, gkey)\n",
    "import gmaps\n",
    "import numpy as np\n",
    "import pandas as pd\n",
    "import requests\n",
    "import time\n",
    "#from us import states\n",
    "from scipy.stats import linregress\n",
    "from matplotlib import pyplot as plt\n",
    "\n",
    "\n",
    "# Census API Key\n",
    "c = Census(census_key, year=2013)"
   ]
  },
  {
   "cell_type": "markdown",
   "metadata": {},
   "source": [
    "## Data Retrieval"
   ]
  },
  {
   "cell_type": "code",
   "execution_count": 2,
   "metadata": {},
   "outputs": [
    {
     "ename": "KeyError",
     "evalue": "'Poverty Count'",
     "output_type": "error",
     "traceback": [
      "\u001b[0;31m---------------------------------------------------------------------------\u001b[0m",
      "\u001b[0;31mKeyError\u001b[0m                                  Traceback (most recent call last)",
      "\u001b[0;32m~/anaconda3/lib/python3.7/site-packages/pandas/core/indexes/base.py\u001b[0m in \u001b[0;36mget_loc\u001b[0;34m(self, key, method, tolerance)\u001b[0m\n\u001b[1;32m   2656\u001b[0m             \u001b[0;32mtry\u001b[0m\u001b[0;34m:\u001b[0m\u001b[0;34m\u001b[0m\u001b[0;34m\u001b[0m\u001b[0m\n\u001b[0;32m-> 2657\u001b[0;31m                 \u001b[0;32mreturn\u001b[0m \u001b[0mself\u001b[0m\u001b[0;34m.\u001b[0m\u001b[0m_engine\u001b[0m\u001b[0;34m.\u001b[0m\u001b[0mget_loc\u001b[0m\u001b[0;34m(\u001b[0m\u001b[0mkey\u001b[0m\u001b[0;34m)\u001b[0m\u001b[0;34m\u001b[0m\u001b[0;34m\u001b[0m\u001b[0m\n\u001b[0m\u001b[1;32m   2658\u001b[0m             \u001b[0;32mexcept\u001b[0m \u001b[0mKeyError\u001b[0m\u001b[0;34m:\u001b[0m\u001b[0;34m\u001b[0m\u001b[0;34m\u001b[0m\u001b[0m\n",
      "\u001b[0;32mpandas/_libs/index.pyx\u001b[0m in \u001b[0;36mpandas._libs.index.IndexEngine.get_loc\u001b[0;34m()\u001b[0m\n",
      "\u001b[0;32mpandas/_libs/index.pyx\u001b[0m in \u001b[0;36mpandas._libs.index.IndexEngine.get_loc\u001b[0;34m()\u001b[0m\n",
      "\u001b[0;32mpandas/_libs/hashtable_class_helper.pxi\u001b[0m in \u001b[0;36mpandas._libs.hashtable.PyObjectHashTable.get_item\u001b[0;34m()\u001b[0m\n",
      "\u001b[0;32mpandas/_libs/hashtable_class_helper.pxi\u001b[0m in \u001b[0;36mpandas._libs.hashtable.PyObjectHashTable.get_item\u001b[0;34m()\u001b[0m\n",
      "\u001b[0;31mKeyError\u001b[0m: 'Poverty Count'",
      "\nDuring handling of the above exception, another exception occurred:\n",
      "\u001b[0;31mKeyError\u001b[0m                                  Traceback (most recent call last)",
      "\u001b[0;32m<ipython-input-2-e4c93275bae4>\u001b[0m in \u001b[0;36m<module>\u001b[0;34m\u001b[0m\n\u001b[1;32m     15\u001b[0m \u001b[0mcensus_pd\u001b[0m\u001b[0;34m[\u001b[0m\u001b[0;34m\"Poverty Rate\"\u001b[0m\u001b[0;34m]\u001b[0m \u001b[0;34m=\u001b[0m \u001b[0;36m100\u001b[0m \u001b[0;34m*\u001b[0m\u001b[0;31m \u001b[0m\u001b[0;31m\\\u001b[0m\u001b[0;34m\u001b[0m\u001b[0;34m\u001b[0m\u001b[0m\n\u001b[1;32m     16\u001b[0m     census_pd[\"Poverty Count\"].astype(\n\u001b[0;32m---> 17\u001b[0;31m         int) / census_pd[\"Population\"].astype(int)\n\u001b[0m\u001b[1;32m     18\u001b[0m \u001b[0;34m\u001b[0m\u001b[0m\n\u001b[1;32m     19\u001b[0m \u001b[0;31m# Final DataFrame\u001b[0m\u001b[0;34m\u001b[0m\u001b[0;34m\u001b[0m\u001b[0;34m\u001b[0m\u001b[0m\n",
      "\u001b[0;32m~/anaconda3/lib/python3.7/site-packages/pandas/core/frame.py\u001b[0m in \u001b[0;36m__getitem__\u001b[0;34m(self, key)\u001b[0m\n\u001b[1;32m   2925\u001b[0m             \u001b[0;32mif\u001b[0m \u001b[0mself\u001b[0m\u001b[0;34m.\u001b[0m\u001b[0mcolumns\u001b[0m\u001b[0;34m.\u001b[0m\u001b[0mnlevels\u001b[0m \u001b[0;34m>\u001b[0m \u001b[0;36m1\u001b[0m\u001b[0;34m:\u001b[0m\u001b[0;34m\u001b[0m\u001b[0;34m\u001b[0m\u001b[0m\n\u001b[1;32m   2926\u001b[0m                 \u001b[0;32mreturn\u001b[0m \u001b[0mself\u001b[0m\u001b[0;34m.\u001b[0m\u001b[0m_getitem_multilevel\u001b[0m\u001b[0;34m(\u001b[0m\u001b[0mkey\u001b[0m\u001b[0;34m)\u001b[0m\u001b[0;34m\u001b[0m\u001b[0;34m\u001b[0m\u001b[0m\n\u001b[0;32m-> 2927\u001b[0;31m             \u001b[0mindexer\u001b[0m \u001b[0;34m=\u001b[0m \u001b[0mself\u001b[0m\u001b[0;34m.\u001b[0m\u001b[0mcolumns\u001b[0m\u001b[0;34m.\u001b[0m\u001b[0mget_loc\u001b[0m\u001b[0;34m(\u001b[0m\u001b[0mkey\u001b[0m\u001b[0;34m)\u001b[0m\u001b[0;34m\u001b[0m\u001b[0;34m\u001b[0m\u001b[0m\n\u001b[0m\u001b[1;32m   2928\u001b[0m             \u001b[0;32mif\u001b[0m \u001b[0mis_integer\u001b[0m\u001b[0;34m(\u001b[0m\u001b[0mindexer\u001b[0m\u001b[0;34m)\u001b[0m\u001b[0;34m:\u001b[0m\u001b[0;34m\u001b[0m\u001b[0;34m\u001b[0m\u001b[0m\n\u001b[1;32m   2929\u001b[0m                 \u001b[0mindexer\u001b[0m \u001b[0;34m=\u001b[0m \u001b[0;34m[\u001b[0m\u001b[0mindexer\u001b[0m\u001b[0;34m]\u001b[0m\u001b[0;34m\u001b[0m\u001b[0;34m\u001b[0m\u001b[0m\n",
      "\u001b[0;32m~/anaconda3/lib/python3.7/site-packages/pandas/core/indexes/base.py\u001b[0m in \u001b[0;36mget_loc\u001b[0;34m(self, key, method, tolerance)\u001b[0m\n\u001b[1;32m   2657\u001b[0m                 \u001b[0;32mreturn\u001b[0m \u001b[0mself\u001b[0m\u001b[0;34m.\u001b[0m\u001b[0m_engine\u001b[0m\u001b[0;34m.\u001b[0m\u001b[0mget_loc\u001b[0m\u001b[0;34m(\u001b[0m\u001b[0mkey\u001b[0m\u001b[0;34m)\u001b[0m\u001b[0;34m\u001b[0m\u001b[0;34m\u001b[0m\u001b[0m\n\u001b[1;32m   2658\u001b[0m             \u001b[0;32mexcept\u001b[0m \u001b[0mKeyError\u001b[0m\u001b[0;34m:\u001b[0m\u001b[0;34m\u001b[0m\u001b[0;34m\u001b[0m\u001b[0m\n\u001b[0;32m-> 2659\u001b[0;31m                 \u001b[0;32mreturn\u001b[0m \u001b[0mself\u001b[0m\u001b[0;34m.\u001b[0m\u001b[0m_engine\u001b[0m\u001b[0;34m.\u001b[0m\u001b[0mget_loc\u001b[0m\u001b[0;34m(\u001b[0m\u001b[0mself\u001b[0m\u001b[0;34m.\u001b[0m\u001b[0m_maybe_cast_indexer\u001b[0m\u001b[0;34m(\u001b[0m\u001b[0mkey\u001b[0m\u001b[0;34m)\u001b[0m\u001b[0;34m)\u001b[0m\u001b[0;34m\u001b[0m\u001b[0;34m\u001b[0m\u001b[0m\n\u001b[0m\u001b[1;32m   2660\u001b[0m         \u001b[0mindexer\u001b[0m \u001b[0;34m=\u001b[0m \u001b[0mself\u001b[0m\u001b[0;34m.\u001b[0m\u001b[0mget_indexer\u001b[0m\u001b[0;34m(\u001b[0m\u001b[0;34m[\u001b[0m\u001b[0mkey\u001b[0m\u001b[0;34m]\u001b[0m\u001b[0;34m,\u001b[0m \u001b[0mmethod\u001b[0m\u001b[0;34m=\u001b[0m\u001b[0mmethod\u001b[0m\u001b[0;34m,\u001b[0m \u001b[0mtolerance\u001b[0m\u001b[0;34m=\u001b[0m\u001b[0mtolerance\u001b[0m\u001b[0;34m)\u001b[0m\u001b[0;34m\u001b[0m\u001b[0;34m\u001b[0m\u001b[0m\n\u001b[1;32m   2661\u001b[0m         \u001b[0;32mif\u001b[0m \u001b[0mindexer\u001b[0m\u001b[0;34m.\u001b[0m\u001b[0mndim\u001b[0m \u001b[0;34m>\u001b[0m \u001b[0;36m1\u001b[0m \u001b[0;32mor\u001b[0m \u001b[0mindexer\u001b[0m\u001b[0;34m.\u001b[0m\u001b[0msize\u001b[0m \u001b[0;34m>\u001b[0m \u001b[0;36m1\u001b[0m\u001b[0;34m:\u001b[0m\u001b[0;34m\u001b[0m\u001b[0;34m\u001b[0m\u001b[0m\n",
      "\u001b[0;32mpandas/_libs/index.pyx\u001b[0m in \u001b[0;36mpandas._libs.index.IndexEngine.get_loc\u001b[0;34m()\u001b[0m\n",
      "\u001b[0;32mpandas/_libs/index.pyx\u001b[0m in \u001b[0;36mpandas._libs.index.IndexEngine.get_loc\u001b[0;34m()\u001b[0m\n",
      "\u001b[0;32mpandas/_libs/hashtable_class_helper.pxi\u001b[0m in \u001b[0;36mpandas._libs.hashtable.PyObjectHashTable.get_item\u001b[0;34m()\u001b[0m\n",
      "\u001b[0;32mpandas/_libs/hashtable_class_helper.pxi\u001b[0m in \u001b[0;36mpandas._libs.hashtable.PyObjectHashTable.get_item\u001b[0;34m()\u001b[0m\n",
      "\u001b[0;31mKeyError\u001b[0m: 'Poverty Count'"
     ]
<<<<<<< HEAD
=======
    },
    {
     "data": {
      "text/html": [
       "<div>\n",
       "<style scoped>\n",
       "    .dataframe tbody tr th:only-of-type {\n",
       "        vertical-align: middle;\n",
       "    }\n",
       "\n",
       "    .dataframe tbody tr th {\n",
       "        vertical-align: top;\n",
       "    }\n",
       "\n",
       "    .dataframe thead th {\n",
       "        text-align: right;\n",
       "    }\n",
       "</style>\n",
       "<table border=\"1\" class=\"dataframe\">\n",
       "  <thead>\n",
       "    <tr style=\"text-align: right;\">\n",
       "      <th></th>\n",
       "      <th>Zipcode</th>\n",
       "      <th>Population</th>\n",
       "      <th>Poverty Rate</th>\n",
       "    </tr>\n",
       "  </thead>\n",
       "  <tbody>\n",
       "    <tr>\n",
       "      <th>0</th>\n",
       "      <td>01832</td>\n",
       "      <td>22121.0</td>\n",
       "      <td>10.903666</td>\n",
       "    </tr>\n",
       "    <tr>\n",
       "      <th>1</th>\n",
       "      <td>01833</td>\n",
       "      <td>8295.0</td>\n",
       "      <td>2.302592</td>\n",
       "    </tr>\n",
       "    <tr>\n",
       "      <th>2</th>\n",
       "      <td>01834</td>\n",
       "      <td>6675.0</td>\n",
       "      <td>2.187266</td>\n",
       "    </tr>\n",
       "    <tr>\n",
       "      <th>3</th>\n",
       "      <td>01835</td>\n",
       "      <td>13527.0</td>\n",
       "      <td>8.523693</td>\n",
       "    </tr>\n",
       "    <tr>\n",
       "      <th>4</th>\n",
       "      <td>01840</td>\n",
       "      <td>4547.0</td>\n",
       "      <td>39.542556</td>\n",
       "    </tr>\n",
       "  </tbody>\n",
       "</table>\n",
       "</div>"
      ],
      "text/plain": [
       "  Zipcode  Population  Poverty Rate\n",
       "0   01832     22121.0     10.903666\n",
       "1   01833      8295.0      2.302592\n",
       "2   01834      6675.0      2.187266\n",
       "3   01835     13527.0      8.523693\n",
       "4   01840      4547.0     39.542556"
      ]
     },
     "execution_count": 2,
     "metadata": {},
     "output_type": "execute_result"
>>>>>>> 05a4cbe249304c6c50f3ac2ce9f368a06067fe45
    }
   ],
   "source": [
    "# Run Census Search to retrieve data on all zip codes (2013 ACS5 Census)\n",
    "# See: https://github.com/CommerceDataService/census-wrapper for library documentation\n",
    "# See: https://gist.github.com/afhaque/60558290d6efd892351c4b64e5c01e9b for labels\n",
    "census_data = c.acs5.get((\"B01003_001E\", \"B17001_002E\"), {'for': 'zip code tabulation area:*'})\n",
    "\n",
    "# Convert to DataFrame\n",
    "census_pd = pd.DataFrame(census_data)\n",
    "\n",
    "# Column Reordering\n",
    "census_pd = census_pd.rename(columns={\"B01003_001E\": \"Population\",\n",
    "                                      \"B17001_002E\": \"Poverty Count\",\n",
    "                                      \"zip code tabulation area\": \"Zipcode\"})\n",
    "\n",
    "# Add in Employment Rate (Employment Count / Population)\n",
    "census_pd[\"Poverty Rate\"] = 100 * \\\n",
    "    census_pd[\"Poverty Count\"].astype(\n",
    "        int) / census_pd[\"Population\"].astype(int)\n",
    "\n",
    "# Final DataFrame\n",
    "census_pd = census_pd[[\"Zipcode\", \"Population\", \"Poverty Rate\"]]\n",
    "\n",
    "# Visualize\n",
    "print(len(census_pd))\n",
    "census_pd.head()"
   ]
  },
  {
   "cell_type": "markdown",
   "metadata": {},
   "source": [
    "## Combine Data"
   ]
  },
  {
   "cell_type": "code",
   "execution_count": 3,
   "metadata": {},
   "outputs": [
    {
     "data": {
      "text/html": [
       "<div>\n",
       "<style scoped>\n",
       "    .dataframe tbody tr th:only-of-type {\n",
       "        vertical-align: middle;\n",
       "    }\n",
       "\n",
       "    .dataframe tbody tr th {\n",
       "        vertical-align: top;\n",
       "    }\n",
       "\n",
       "    .dataframe thead th {\n",
       "        text-align: right;\n",
       "    }\n",
       "</style>\n",
       "<table border=\"1\" class=\"dataframe\">\n",
       "  <thead>\n",
       "    <tr style=\"text-align: right;\">\n",
       "      <th></th>\n",
       "      <th>Zipcode</th>\n",
       "      <th>Address</th>\n",
       "      <th>Median Age</th>\n",
       "      <th>Household Income</th>\n",
       "      <th>Per Capita Income</th>\n",
       "      <th>Lat</th>\n",
       "      <th>Lng</th>\n",
       "      <th>Bank Count</th>\n",
       "    </tr>\n",
       "  </thead>\n",
       "  <tbody>\n",
       "    <tr>\n",
       "      <th>0</th>\n",
       "      <td>624</td>\n",
       "      <td>Hastings, MI 49058, USA</td>\n",
       "      <td>40.8</td>\n",
       "      <td>46777</td>\n",
       "      <td>22137</td>\n",
       "      <td>42.6306916</td>\n",
       "      <td>-85.2929384</td>\n",
       "      <td>9</td>\n",
       "    </tr>\n",
       "    <tr>\n",
       "      <th>1</th>\n",
       "      <td>692</td>\n",
       "      <td>Ball, LA 71405, USA</td>\n",
       "      <td>35.8</td>\n",
       "      <td>55242</td>\n",
       "      <td>23941</td>\n",
       "      <td>31.4061799</td>\n",
       "      <td>-92.396174</td>\n",
       "      <td>12</td>\n",
       "    </tr>\n",
       "    <tr>\n",
       "      <th>2</th>\n",
       "      <td>730</td>\n",
       "      <td>Great Mills, MD 20634, USA</td>\n",
       "      <td>31.9</td>\n",
       "      <td>79944</td>\n",
       "      <td>35961</td>\n",
       "      <td>38.2201614</td>\n",
       "      <td>-76.4967919</td>\n",
       "      <td>9</td>\n",
       "    </tr>\n",
       "    <tr>\n",
       "      <th>3</th>\n",
       "      <td>757</td>\n",
       "      <td>Williamsport, TN 38487, USA</td>\n",
       "      <td>41.6</td>\n",
       "      <td>38125</td>\n",
       "      <td>18884</td>\n",
       "      <td>35.7310368</td>\n",
       "      <td>-87.2419299</td>\n",
       "      <td>0</td>\n",
       "    </tr>\n",
       "    <tr>\n",
       "      <th>4</th>\n",
       "      <td>957</td>\n",
       "      <td>Marion, ND 58466, USA</td>\n",
       "      <td>44.5</td>\n",
       "      <td>69844</td>\n",
       "      <td>36981</td>\n",
       "      <td>46.5594224</td>\n",
       "      <td>-98.3481542</td>\n",
       "      <td>1</td>\n",
       "    </tr>\n",
       "  </tbody>\n",
       "</table>\n",
       "</div>"
      ],
      "text/plain": [
       "  Zipcode                      Address Median Age Household Income  \\\n",
       "0     624      Hastings, MI 49058, USA       40.8            46777   \n",
       "1     692          Ball, LA 71405, USA       35.8            55242   \n",
       "2     730   Great Mills, MD 20634, USA       31.9            79944   \n",
       "3     757  Williamsport, TN 38487, USA       41.6            38125   \n",
       "4     957        Marion, ND 58466, USA       44.5            69844   \n",
       "\n",
       "  Per Capita Income         Lat          Lng Bank Count  \n",
       "0             22137  42.6306916  -85.2929384          9  \n",
       "1             23941  31.4061799   -92.396174         12  \n",
       "2             35961  38.2201614  -76.4967919          9  \n",
       "3             18884  35.7310368  -87.2419299          0  \n",
       "4             36981  46.5594224  -98.3481542          1  "
      ]
     },
     "execution_count": 3,
     "metadata": {},
     "output_type": "execute_result"
    }
   ],
   "source": [
    "# Import the original data we analyzed earlier. Use dtype=\"object\" to match other\n",
    "census_data_original = pd.read_csv(\n",
    "    \"../Resources/zip_bank_data.csv\", dtype=\"object\", encoding=\"utf-8\")\n",
    "\n",
    "# Visualize\n",
    "census_data_original.head()"
   ]
  },
  {
   "cell_type": "code",
   "execution_count": 4,
   "metadata": {},
   "outputs": [
    {
     "data": {
      "text/html": [
       "<div>\n",
       "<style scoped>\n",
       "    .dataframe tbody tr th:only-of-type {\n",
       "        vertical-align: middle;\n",
       "    }\n",
       "\n",
       "    .dataframe tbody tr th {\n",
       "        vertical-align: top;\n",
       "    }\n",
       "\n",
       "    .dataframe thead th {\n",
       "        text-align: right;\n",
       "    }\n",
       "</style>\n",
       "<table border=\"1\" class=\"dataframe\">\n",
       "  <thead>\n",
       "    <tr style=\"text-align: right;\">\n",
       "      <th></th>\n",
       "      <th>Zipcode</th>\n",
       "      <th>Address</th>\n",
       "      <th>Median Age</th>\n",
       "      <th>Household Income</th>\n",
       "      <th>Per Capita Income</th>\n",
       "      <th>Lat</th>\n",
       "      <th>Lng</th>\n",
       "      <th>Bank Count</th>\n",
       "      <th>Population</th>\n",
       "      <th>Poverty Rate</th>\n",
       "    </tr>\n",
       "  </thead>\n",
       "  <tbody>\n",
       "    <tr>\n",
       "      <th>63</th>\n",
       "      <td>10007</td>\n",
       "      <td>Flatonia, TX 78941, USA</td>\n",
       "      <td>45.7</td>\n",
       "      <td>40304</td>\n",
       "      <td>23115</td>\n",
       "      <td>29.7574106</td>\n",
       "      <td>-97.1574784</td>\n",
       "      <td>0</td>\n",
       "      <td>6525.0</td>\n",
       "      <td>2.206897</td>\n",
       "    </tr>\n",
       "    <tr>\n",
       "      <th>64</th>\n",
       "      <td>10303</td>\n",
       "      <td>Nevada, IA 50201, USA</td>\n",
       "      <td>40.4</td>\n",
       "      <td>56619</td>\n",
       "      <td>28908</td>\n",
       "      <td>42.065743</td>\n",
       "      <td>-93.4599326</td>\n",
       "      <td>7</td>\n",
       "      <td>24537.0</td>\n",
       "      <td>21.828259</td>\n",
       "    </tr>\n",
       "    <tr>\n",
       "      <th>65</th>\n",
       "      <td>10309</td>\n",
       "      <td>Lukachukai, AZ 86507, USA</td>\n",
       "      <td>24.1</td>\n",
       "      <td>22009</td>\n",
       "      <td>8346</td>\n",
       "      <td>36.4106866</td>\n",
       "      <td>-109.2593642</td>\n",
       "      <td>0</td>\n",
       "      <td>32646.0</td>\n",
       "      <td>6.766526</td>\n",
       "    </tr>\n",
       "    <tr>\n",
       "      <th>66</th>\n",
       "      <td>10553</td>\n",
       "      <td>Lone Pine, CA 93545, USA</td>\n",
       "      <td>40.6</td>\n",
       "      <td>32473</td>\n",
       "      <td>18444</td>\n",
       "      <td>36.5131184</td>\n",
       "      <td>-118.0888578</td>\n",
       "      <td>0</td>\n",
       "      <td>9895.0</td>\n",
       "      <td>15.260232</td>\n",
       "    </tr>\n",
       "    <tr>\n",
       "      <th>67</th>\n",
       "      <td>10803</td>\n",
       "      <td>Niagara, WI 54151, USA</td>\n",
       "      <td>45.7</td>\n",
       "      <td>45813</td>\n",
       "      <td>23500</td>\n",
       "      <td>45.715354</td>\n",
       "      <td>-87.9804239</td>\n",
       "      <td>2</td>\n",
       "      <td>12439.0</td>\n",
       "      <td>3.006673</td>\n",
       "    </tr>\n",
       "  </tbody>\n",
       "</table>\n",
       "</div>"
      ],
      "text/plain": [
       "   Zipcode                    Address Median Age Household Income  \\\n",
       "63   10007    Flatonia, TX 78941, USA       45.7            40304   \n",
       "64   10303      Nevada, IA 50201, USA       40.4            56619   \n",
       "65   10309  Lukachukai, AZ 86507, USA       24.1            22009   \n",
       "66   10553   Lone Pine, CA 93545, USA       40.6            32473   \n",
       "67   10803     Niagara, WI 54151, USA       45.7            45813   \n",
       "\n",
       "   Per Capita Income         Lat           Lng Bank Count  Population  \\\n",
       "63             23115  29.7574106   -97.1574784          0      6525.0   \n",
       "64             28908   42.065743   -93.4599326          7     24537.0   \n",
       "65              8346  36.4106866  -109.2593642          0     32646.0   \n",
       "66             18444  36.5131184  -118.0888578          0      9895.0   \n",
       "67             23500   45.715354   -87.9804239          2     12439.0   \n",
       "\n",
       "    Poverty Rate  \n",
       "63      2.206897  \n",
       "64     21.828259  \n",
       "65      6.766526  \n",
       "66     15.260232  \n",
       "67      3.006673  "
      ]
     },
     "execution_count": 4,
     "metadata": {},
     "output_type": "execute_result"
    }
   ],
   "source": [
    "# Merge the two data sets along zip code\n",
    "census_data_complete = pd.merge(\n",
    "    census_data_original, census_pd, how=\"left\", on=[\"Zipcode\", \"Zipcode\"])\n",
    "\n",
    "# Remove rows missing data\n",
    "census_data_complete = census_data_complete.dropna()\n",
    "\n",
    "# Visualize\n",
    "census_data_complete.head()"
   ]
  },
  {
   "cell_type": "markdown",
   "metadata": {},
   "source": [
    "## Heatmap of Poverty Rate"
   ]
  },
  {
   "cell_type": "code",
   "execution_count": 5,
   "metadata": {},
   "outputs": [],
   "source": [
    "# Configure gmaps with API key\n",
    "gmaps.configure(api_key=gkey)"
   ]
  },
  {
   "cell_type": "code",
   "execution_count": 6,
   "metadata": {},
   "outputs": [],
   "source": [
    "# Store 'Lat' and 'Lng' into  locations \n",
    "locations = census_data_complete[[\"Lat\", \"Lng\"]].astype(float)\n",
    "\n",
    "# Convert Poverty Rate to float and store\n",
    "# HINT: be sure to handle NaN values\n",
    "census_data_complete = census_data_complete.dropna()\n",
    "poverty_rate = census_data_complete[\"Poverty Rate\"].astype(float)"
   ]
  },
  {
   "cell_type": "code",
   "execution_count": 7,
   "metadata": {},
   "outputs": [
    {
     "data": {
      "application/vnd.jupyter.widget-view+json": {
       "model_id": "42e0d10dc2214e93b2911b2fdff356ba",
       "version_major": 2,
       "version_minor": 0
      },
      "text/plain": [
       "Figure(layout=FigureLayout(height='420px'))"
      ]
     },
     "metadata": {},
     "output_type": "display_data"
    }
   ],
   "source": [
    "# Create a poverty Heatmap layer\n",
    "fig = gmaps.figure()\n",
    "\n",
    "heat_layer = gmaps.heatmap_layer(locations, weights=poverty_rate, \n",
    "                                 dissipating=False, max_intensity=100,\n",
    "                                 point_radius = 1)\n",
    "\n",
    "fig.add_layer(heat_layer)\n",
    "\n",
    "fig"
   ]
  },
  {
   "cell_type": "code",
   "execution_count": 8,
   "metadata": {},
   "outputs": [],
   "source": [
    "# Convert bank rate to list\n",
    "bank_rate = census_data_complete[\"Bank Count\"].tolist()"
   ]
  },
  {
   "cell_type": "code",
   "execution_count": 9,
   "metadata": {
    "scrolled": true
   },
   "outputs": [
    {
     "data": {
      "application/vnd.jupyter.widget-view+json": {
       "model_id": "f69cb4826f37498bb7b283941c9bbb61",
       "version_major": 2,
       "version_minor": 0
      },
      "text/plain": [
       "Figure(layout=FigureLayout(height='420px'))"
      ]
     },
     "metadata": {},
     "output_type": "display_data"
    }
   ],
   "source": [
    "# Create bank symbol layer\n",
    "bank_layer = gmaps.symbol_layer(\n",
    "    locations, fill_color='rgba(0, 150, 0, 0.4)',\n",
    "    stroke_color='rgba(0, 0, 150, 0.4)', scale=2,\n",
    "    info_box_content=[f\"Bank amount: {bank}\" for bank in bank_rate]\n",
    ")\n",
    "\n",
    "\n",
    "fig = gmaps.figure()\n",
    "fig.add_layer(bank_layer)\n",
    "\n",
    "fig"
   ]
  },
  {
   "cell_type": "code",
   "execution_count": 10,
   "metadata": {},
   "outputs": [
    {
     "data": {
      "application/vnd.jupyter.widget-view+json": {
       "model_id": "5fd7bb8b55f54f7782b3658b0ccce875",
       "version_major": 2,
       "version_minor": 0
      },
      "text/plain": [
       "Figure(layout=FigureLayout(height='420px'))"
      ]
     },
     "metadata": {},
     "output_type": "display_data"
    }
   ],
   "source": [
    "# Create a combined map\n",
    "fig = gmaps.figure()\n",
    "\n",
    "fig.add_layer(heat_layer)\n",
    "fig.add_layer(bank_layer)\n",
    "\n",
    "fig"
   ]
  },
  {
   "cell_type": "markdown",
   "metadata": {},
   "source": [
    "## Statistical Analysis"
   ]
  },
  {
   "cell_type": "markdown",
   "metadata": {},
   "source": [
    "#### Summary Statistics"
   ]
  },
  {
   "cell_type": "code",
   "execution_count": 11,
   "metadata": {},
   "outputs": [
    {
     "name": "stdout",
     "output_type": "stream",
     "text": [
      "Poverty Rate Mean: 14.62\n",
      "Poverty Rate Median 12.49\n",
      "Poverty Rate mode 0    0.0\n",
      "dtype: float64\n"
     ]
    }
   ],
   "source": [
    "# Mean, median, mode for Poverty Rate\n",
    "poverty_mean = round(census_data_complete['Poverty Rate'].astype('float').mean(), 2)\n",
    "poverty_median = round(census_data_complete['Poverty Rate'].astype('float').median(), 2)\n",
    "poverty_mode = round(census_data_complete['Poverty Rate'].astype('float').mode(), 2)\n",
    "\n",
    "print(f\"Poverty Rate Mean: {poverty_mean}\")\n",
    "print(f\"Poverty Rate Median {poverty_median}\")\n",
    "print(f\"Poverty Rate mode {poverty_mode}\")"
   ]
  },
  {
   "cell_type": "code",
   "execution_count": 12,
   "metadata": {},
   "outputs": [
    {
     "name": "stdout",
     "output_type": "stream",
     "text": [
      "Bank Count Mean: 21.11\n",
      "Bank Count Median 2.0\n",
      "Bank Count mode 0    0.0\n",
      "dtype: float64\n"
     ]
    }
   ],
   "source": [
    "# Mean, median, mode for Bank Count\n",
    "bank_mean = round(census_data_complete['Bank Count'].astype('float').mean(), 2)\n",
    "bank_median = round(census_data_complete['Bank Count'].astype('float').median(), 2)\n",
    "bank_mode = round(census_data_complete['Bank Count'].astype('float').mode(), 2)\n",
    "\n",
    "print(f\"Bank Count Mean: {bank_mean}\")\n",
    "print(f\"Bank Count Median {bank_median}\")\n",
    "print(f\"Bank Count mode {bank_mode}\")"
   ]
  },
  {
   "cell_type": "code",
   "execution_count": 13,
   "metadata": {},
   "outputs": [
    {
     "name": "stdout",
     "output_type": "stream",
     "text": [
      "Population Mean: 10115.99\n",
      "Population Median 2971.0\n",
      "UPopulation mode 0    337.0\n",
      "dtype: float64\n"
     ]
    }
   ],
   "source": [
    "# Mean, median, mode for Population\n",
    "population_mean = round(census_data_complete['Population'].astype('float').mean(), 2)\n",
    "population_median = round(census_data_complete['Population'].astype('float').median(), 2)\n",
    "population_mode = round(census_data_complete['Population'].astype('float').mode(), 2)\n",
    "\n",
    "print(f\"Population Mean: {population_mean}\")\n",
    "print(f\"Population Median {population_median}\")\n",
    "print(f\"UPopulation mode {population_mode}\")"
   ]
  },
  {
   "cell_type": "markdown",
   "metadata": {},
   "source": [
    "#### Linear Regression"
   ]
  },
  {
   "cell_type": "code",
   "execution_count": 14,
   "metadata": {},
   "outputs": [
    {
     "name": "stdout",
     "output_type": "stream",
     "text": [
      "R squard: 0.07390527851338499\n"
     ]
    },
    {
     "data": {
      "image/png": "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\n",
      "text/plain": [
       "<Figure size 432x288 with 1 Axes>"
      ]
     },
     "metadata": {
      "needs_background": "light"
     },
     "output_type": "display_data"
    }
   ],
   "source": [
    "## Convert to floats and store Poverty Rate and Bank Count as x and y values\n",
    "x_values = census_data_complete['Poverty Rate'].astype('float')\n",
    "y_values = census_data_complete['Bank Count'].astype('float')\n",
    "\n",
    "# Run linear regression\n",
    "(slope, intercept, rvalue, pvalue, stderr) = linregress(x_values, y_values)\n",
    "regress_values = x_values * slope + intercept\n",
    "line_eq = \"y = \" + str(round(slope,2)) + \"x + \" + str(round(intercept,2))\n",
    "\n",
    "# Plot scatter plot\n",
    "plt.scatter(x_values,y_values)\n",
    "\n",
    "# Plot regression line\n",
    "plt.plot(x_values,regress_values,\"r-\")\n",
    "plt.annotate(line_eq,(6,10),fontsize=15,color=\"red\")\n",
    "\n",
    "# Label plot\n",
    "plt.xlabel('Poverty Rate')\n",
    "plt.ylabel('Bank Count')\n",
    "\n",
    "# Print r square value\n",
    "print(f\"R squard: {rvalue}\")\n",
    "\n",
    "# Show plot\n",
    "plt.show()"
   ]
  },
  {
   "cell_type": "markdown",
   "metadata": {},
   "source": [
    "### Analysis\n",
    "* There is a very weak correlation between poverty rates and bank counts. Keep in mind that linear regression will not consider other factors such as population or size of the city."
   ]
  },
  {
   "cell_type": "code",
   "execution_count": null,
   "metadata": {},
   "outputs": [],
   "source": []
  }
 ],
 "metadata": {
  "kernelspec": {
   "display_name": "Python 3",
   "language": "python",
   "name": "python3"
  },
  "language_info": {
   "codemirror_mode": {
    "name": "ipython",
    "version": 3
   },
   "file_extension": ".py",
   "mimetype": "text/x-python",
   "name": "python",
   "nbconvert_exporter": "python",
   "pygments_lexer": "ipython3",
   "version": "3.7.3"
  },
  "latex_envs": {
   "LaTeX_envs_menu_present": true,
   "autoclose": false,
   "autocomplete": true,
   "bibliofile": "biblio.bib",
   "cite_by": "apalike",
   "current_citInitial": 1,
   "eqLabelWithNumbers": true,
   "eqNumInitial": 1,
   "hotkeys": {
    "equation": "Ctrl-E",
    "itemize": "Ctrl-I"
   },
   "labels_anchors": false,
   "latex_user_defs": false,
   "report_style_numbering": false,
   "user_envs_cfg": false
  }
 },
 "nbformat": 4,
 "nbformat_minor": 2
}
