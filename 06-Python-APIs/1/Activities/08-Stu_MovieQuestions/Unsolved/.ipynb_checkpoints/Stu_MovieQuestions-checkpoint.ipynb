{
 "cells": [
  {
   "cell_type": "code",
   "execution_count": 7,
   "metadata": {},
   "outputs": [],
   "source": [
    "# Dependencies\n",
    "import requests\n",
    "from pprint import pprint\n",
    "from config import api_key\n",
    "\n",
    "url = f\"http://www.omdbapi.com/?apikey={api_key}&t=\""
   ]
  },
  {
   "cell_type": "code",
   "execution_count": 8,
   "metadata": {},
   "outputs": [
    {
     "name": "stdout",
     "output_type": "stream",
     "text": [
      "The director of Aliens was James Cameron.\n"
     ]
    }
   ],
   "source": [
    "# Who was the director of the movie Aliens?\n",
    "\n",
    "movie_aliens = requests.get(url + \"Aliens\").json()\n",
    "print(f'The director of Aliens was {movie_aliens[\"Director\"]}.')"
   ]
  },
  {
   "cell_type": "code",
   "execution_count": 10,
   "metadata": {},
   "outputs": [
    {
     "name": "stdout",
     "output_type": "stream",
     "text": [
      "{'Actors': 'Russell Crowe, Joaquin Phoenix, Connie Nielsen, Oliver Reed',\n",
      " 'Awards': 'Won 5 Oscars. Another 53 wins & 101 nominations.',\n",
      " 'BoxOffice': 'N/A',\n",
      " 'Country': 'USA, UK, Malta, Morocco',\n",
      " 'DVD': '21 Nov 2000',\n",
      " 'Director': 'Ridley Scott',\n",
      " 'Genre': 'Action, Adventure, Drama',\n",
      " 'Language': 'English',\n",
      " 'Metascore': '67',\n",
      " 'Plot': 'A former Roman General sets out to exact vengeance against the '\n",
      "         'corrupt emperor who murdered his family and sent him into slavery.',\n",
      " 'Poster': 'https://m.media-amazon.com/images/M/MV5BMDliMmNhNDEtODUyOS00MjNlLTgxODEtN2U3NzIxMGVkZTA1L2ltYWdlXkEyXkFqcGdeQXVyNjU0OTQ0OTY@._V1_SX300.jpg',\n",
      " 'Production': 'Dreamworks Distribution LLC',\n",
      " 'Rated': 'R',\n",
      " 'Ratings': [{'Source': 'Internet Movie Database', 'Value': '8.5/10'},\n",
      "             {'Source': 'Rotten Tomatoes', 'Value': '76%'},\n",
      "             {'Source': 'Metacritic', 'Value': '67/100'}],\n",
      " 'Released': '05 May 2000',\n",
      " 'Response': 'True',\n",
      " 'Runtime': '155 min',\n",
      " 'Title': 'Gladiator',\n",
      " 'Type': 'movie',\n",
      " 'Website': 'http://www.gladiator-thefilm.com',\n",
      " 'Writer': 'David Franzoni (story), David Franzoni (screenplay), John Logan '\n",
      "           '(screenplay), William Nicholson (screenplay)',\n",
      " 'Year': '2000',\n",
      " 'imdbID': 'tt0172495',\n",
      " 'imdbRating': '8.5',\n",
      " 'imdbVotes': '1,228,963'}\n"
     ]
    }
   ],
   "source": [
    "movie_gladiator = requests.get(url + \"Gladiator\").json()\n",
    "pprint (movie_gladiator)"
   ]
  },
  {
   "cell_type": "code",
   "execution_count": 11,
   "metadata": {
    "scrolled": true
   },
   "outputs": [
    {
     "name": "stdout",
     "output_type": "stream",
     "text": [
      "Gladiator was rated R.\n"
     ]
    }
   ],
   "source": [
    "# What was the movie Gladiator rated?\n",
    "\n",
    "movie_gladiator = requests.get(url + \"Gladiator\").json()\n",
    "print(f'Gladiator was rated {movie_gladiator[\"Rated\"]}.')"
   ]
  },
  {
   "cell_type": "code",
   "execution_count": 13,
   "metadata": {},
   "outputs": [
    {
     "name": "stdout",
     "output_type": "stream",
     "text": [
      "The movie 50 First Dates was released in 2004.\n"
     ]
    }
   ],
   "source": [
    "# What year was 50 First Dates released?\n",
    "movie_50FirstDates = requests.get(url + \"50 First Dates\").json()\n",
    "print(f'The movie 50 First Dates was released in {movie_50FirstDates[\"Year\"]}.')"
   ]
  },
  {
   "cell_type": "code",
   "execution_count": 14,
   "metadata": {
    "scrolled": true
   },
   "outputs": [
    {
     "name": "stdout",
     "output_type": "stream",
     "text": [
      "Moana was written by Jared Bush (screenplay by), Ron Clements (story by), John Musker (story by), Chris Williams (story by), Don Hall (story by), Pamela Ribon (story by), Aaron Kandell (story by), Jordan Kandell (story by).\n"
     ]
    }
   ],
   "source": [
    "# Who wrote Moana?\n",
    "movie_Moana = requests.get(url + \"Moana\").json()\n",
    "print(f'Moana was written by {movie_Moana [\"Writer\"]}.')"
   ]
  },
  {
   "cell_type": "code",
   "execution_count": 15,
   "metadata": {
    "scrolled": true
   },
   "outputs": [
    {
     "name": "stdout",
     "output_type": "stream",
     "text": [
      "The plot of Sing was In a city of humanoid animals, a hustling theater impresario's attempt to save his theater with a singing competition becomes grander than he anticipates even as its finalists find that their lives will never be the same..\n"
     ]
    }
   ],
   "source": [
    "# What was the plot of the movie Sing?\n",
    "\n",
    "movie_Sing = requests.get(url + \"Sing\").json()\n",
    "print(f'The plot of Sing was {movie_Sing [\"Plot\"]}.')"
   ]
  }
 ],
 "metadata": {
  "kernelspec": {
   "display_name": "Python 3",
   "language": "python",
   "name": "python3"
  },
  "language_info": {
   "codemirror_mode": {
    "name": "ipython",
    "version": 3
   },
   "file_extension": ".py",
   "mimetype": "text/x-python",
   "name": "python",
   "nbconvert_exporter": "python",
   "pygments_lexer": "ipython3",
   "version": "3.7.3"
  },
  "varInspector": {
   "cols": {
    "lenName": 16,
    "lenType": 16,
    "lenVar": 40
   },
   "kernels_config": {
    "python": {
     "delete_cmd_postfix": "",
     "delete_cmd_prefix": "del ",
     "library": "var_list.py",
     "varRefreshCmd": "print(var_dic_list())"
    },
    "r": {
     "delete_cmd_postfix": ") ",
     "delete_cmd_prefix": "rm(",
     "library": "var_list.r",
     "varRefreshCmd": "cat(var_dic_list()) "
    }
   },
   "types_to_exclude": [
    "module",
    "function",
    "builtin_function_or_method",
    "instance",
    "_Feature"
   ],
   "window_display": false
  }
 },
 "nbformat": 4,
 "nbformat_minor": 4
}
