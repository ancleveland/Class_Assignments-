{
 "cells": [
  {
   "cell_type": "code",
   "execution_count": 1,
   "metadata": {},
   "outputs": [],
   "source": [
    "#Dependencies\n",
    "import requests\n",
    "import json\n",
    "import pandas as pd\n",
    "import numpy as np\n",
    "import matplotlib.pyplot as plt"
   ]
  },
  {
   "cell_type": "code",
   "execution_count": 3,
   "metadata": {},
   "outputs": [],
   "source": [
    "# Create an application that:\n",
    "# * reads in a list of TV shows\n",
    "# * makes multiple requests from an API to retrieve rating information\n",
    "# * creates a Pandas DataFrame\n",
    "# * visually displays the data.\n",
    "\n",
    "\n",
    "# list of tv show titles to query\n",
    "tv_shows = [\"Altered Carbon\", \"Grey's Anatomy\", \"This is Us\", \"The Flash\",\n",
    "            \"Vikings\", \"Shameless\", \"Arrow\", \"Peaky Blinders\", \"Dirk Gently\"]\n",
    "\n",
    "# tv maze show search base url\n",
    "base_url = \"http://api.tvmaze.com/search/shows?q=\"\n",
    "\n",
    "# set up lists to hold response data for name and rating\n",
    "titles = []\n",
    "ratings = []\n",
    "\n",
    "# loop through tv show titles, make requests and parse\n",
    "for show in tv_shows:\n",
    "    target_url = base_url + show\n",
    "    response = requests.get(target_url).json()\n",
    "    titles.append(response[0]['show']['name'])\n",
    "    ratings.append(response[0]['show']['rating']['average'])"
   ]
  },
  {
   "cell_type": "code",
   "execution_count": 4,
   "metadata": {},
   "outputs": [
    {
     "data": {
      "text/plain": [
       "[{'score': 39.99871,\n",
       "  'show': {'id': 3570,\n",
       "   'url': 'http://www.tvmaze.com/shows/3570/dirk-gently',\n",
       "   'name': 'Dirk Gently',\n",
       "   'type': 'Scripted',\n",
       "   'language': 'English',\n",
       "   'genres': ['Drama', 'Comedy', 'Crime'],\n",
       "   'status': 'Ended',\n",
       "   'runtime': 55,\n",
       "   'premiered': '2012-03-05',\n",
       "   'officialSite': 'http://www.bbc.co.uk/programmes/b01d8jmz',\n",
       "   'schedule': {'time': '21:00', 'days': ['Monday']},\n",
       "   'rating': {'average': 7.3},\n",
       "   'weight': 55,\n",
       "   'network': {'id': 51,\n",
       "    'name': 'BBC Four',\n",
       "    'country': {'name': 'United Kingdom',\n",
       "     'code': 'GB',\n",
       "     'timezone': 'Europe/London'}},\n",
       "   'webChannel': None,\n",
       "   'externals': {'tvrage': 27204, 'thetvdb': 213081, 'imdb': 'tt2303367'},\n",
       "   'image': {'medium': 'http://static.tvmaze.com/uploads/images/medium_portrait/18/46777.jpg',\n",
       "    'original': 'http://static.tvmaze.com/uploads/images/original_untouched/18/46777.jpg'},\n",
       "   'summary': \"<p>Drama series featuring writer Douglas Adams's holistic detective Dirk Gently, who operates based on the fundamental interconnectedness of all things.</p>\",\n",
       "   'updated': 1560876073,\n",
       "   '_links': {'self': {'href': 'http://api.tvmaze.com/shows/3570'},\n",
       "    'previousepisode': {'href': 'http://api.tvmaze.com/episodes/233137'}}}},\n",
       " {'score': 5.420355,\n",
       "  'show': {'id': 11405,\n",
       "   'url': 'http://www.tvmaze.com/shows/11405/dirk-gentlys-holistic-detective-agency',\n",
       "   'name': \"Dirk Gently's Holistic Detective Agency\",\n",
       "   'type': 'Scripted',\n",
       "   'language': 'English',\n",
       "   'genres': ['Comedy', 'Science-Fiction', 'Mystery'],\n",
       "   'status': 'Ended',\n",
       "   'runtime': 60,\n",
       "   'premiered': '2016-10-22',\n",
       "   'officialSite': 'http://www.bbcamerica.com/shows/dirk-gentlys-holistic-detective-agency',\n",
       "   'schedule': {'time': '21:00', 'days': ['Saturday']},\n",
       "   'rating': {'average': 8.6},\n",
       "   'weight': 93,\n",
       "   'network': {'id': 15,\n",
       "    'name': 'BBC America',\n",
       "    'country': {'name': 'United States',\n",
       "     'code': 'US',\n",
       "     'timezone': 'America/New_York'}},\n",
       "   'webChannel': None,\n",
       "   'externals': {'tvrage': None, 'thetvdb': 312505, 'imdb': 'tt4047038'},\n",
       "   'image': {'medium': 'http://static.tvmaze.com/uploads/images/medium_portrait/133/332939.jpg',\n",
       "    'original': 'http://static.tvmaze.com/uploads/images/original_untouched/133/332939.jpg'},\n",
       "   'summary': \"<p>Corpses—cops—trap—cult—assassins—Pararibulitis—vampires—lottery ticket—kitten—corgi—<i>Everything is connected!</i></p><p>Welcome to the world of <b>Dirk Gently's Holistic Detective Agency</b>; a trippy mystery that thrusts a reluctant sidekick into the bizarre world of an unconventional detective who believes in the interconnectedness of all things. When washed-up rocker Todd Brotzman stumbles upon the murder scene of a millionaire, all hell breaks loose. Eccentric detective, Dirk Gently, wholly believes they're destined to untangle the peculiar events surrounding the mystery together, whether Todd likes it or not! A collection of wild and dangerous characters' further infiltrate and complicate their world, each episode landing them a few random steps closer to uncovering the truth.</p><p>The series is an adaptation of the wildly popular novels by Douglas Adams.</p>\",\n",
       "   'updated': 1514470101,\n",
       "   '_links': {'self': {'href': 'http://api.tvmaze.com/shows/11405'},\n",
       "    'previousepisode': {'href': 'http://api.tvmaze.com/episodes/1359674'}}}}]"
      ]
     },
     "execution_count": 4,
     "metadata": {},
     "output_type": "execute_result"
    }
   ],
   "source": [
    "response"
   ]
  },
  {
   "cell_type": "code",
   "execution_count": 5,
   "metadata": {},
   "outputs": [
    {
     "data": {
      "text/html": [
       "<div>\n",
       "<style scoped>\n",
       "    .dataframe tbody tr th:only-of-type {\n",
       "        vertical-align: middle;\n",
       "    }\n",
       "\n",
       "    .dataframe tbody tr th {\n",
       "        vertical-align: top;\n",
       "    }\n",
       "\n",
       "    .dataframe thead th {\n",
       "        text-align: right;\n",
       "    }\n",
       "</style>\n",
       "<table border=\"1\" class=\"dataframe\">\n",
       "  <thead>\n",
       "    <tr style=\"text-align: right;\">\n",
       "      <th></th>\n",
       "      <th>title</th>\n",
       "      <th>rating</th>\n",
       "    </tr>\n",
       "  </thead>\n",
       "  <tbody>\n",
       "    <tr>\n",
       "      <th>0</th>\n",
       "      <td>Altered Carbon</td>\n",
       "      <td>8.2</td>\n",
       "    </tr>\n",
       "    <tr>\n",
       "      <th>1</th>\n",
       "      <td>Grey's Anatomy</td>\n",
       "      <td>8.3</td>\n",
       "    </tr>\n",
       "    <tr>\n",
       "      <th>2</th>\n",
       "      <td>This Is Us</td>\n",
       "      <td>8.2</td>\n",
       "    </tr>\n",
       "    <tr>\n",
       "      <th>3</th>\n",
       "      <td>The Flash</td>\n",
       "      <td>7.9</td>\n",
       "    </tr>\n",
       "    <tr>\n",
       "      <th>4</th>\n",
       "      <td>Vikings</td>\n",
       "      <td>8.8</td>\n",
       "    </tr>\n",
       "    <tr>\n",
       "      <th>5</th>\n",
       "      <td>Shameless</td>\n",
       "      <td>8.7</td>\n",
       "    </tr>\n",
       "    <tr>\n",
       "      <th>6</th>\n",
       "      <td>Arrow</td>\n",
       "      <td>7.5</td>\n",
       "    </tr>\n",
       "    <tr>\n",
       "      <th>7</th>\n",
       "      <td>Peaky Blinders</td>\n",
       "      <td>8.9</td>\n",
       "    </tr>\n",
       "    <tr>\n",
       "      <th>8</th>\n",
       "      <td>Dirk Gently</td>\n",
       "      <td>7.3</td>\n",
       "    </tr>\n",
       "  </tbody>\n",
       "</table>\n",
       "</div>"
      ],
      "text/plain": [
       "            title  rating\n",
       "0  Altered Carbon     8.2\n",
       "1  Grey's Anatomy     8.3\n",
       "2      This Is Us     8.2\n",
       "3       The Flash     7.9\n",
       "4         Vikings     8.8\n",
       "5       Shameless     8.7\n",
       "6           Arrow     7.5\n",
       "7  Peaky Blinders     8.9\n",
       "8     Dirk Gently     7.3"
      ]
     },
     "execution_count": 5,
     "metadata": {},
     "output_type": "execute_result"
    }
   ],
   "source": [
    "# create dataframe\n",
    "shows_df = pd.DataFrame({\n",
    "    \"title\": titles,\n",
    "    \"rating\": ratings\n",
    "})\n",
    "\n",
    "shows_df"
   ]
  },
  {
   "cell_type": "code",
   "execution_count": 8,
   "metadata": {},
   "outputs": [
    {
     "data": {
      "image/png": "[encoded data removed]",
      "text/plain": [
       "<Figure size 432x288 with 1 Axes>"
      ]
     },
     "metadata": {
      "needs_background": "light"
     },
     "output_type": "display_data"
    }
   ],
   "source": [
    "# create a list of numbers for x values\n",
    "tick_locations = np.arange(len(shows_df))\n",
    "\n",
    "# create bar chart and set the values of xticks\n",
    "plt.bar(tick_locations, shows_df['rating'], align=\"center\")\n",
    "plt.xticks(tick_locations, shows_df['title'], rotation=45, ha=\"right\")\n",
    "\n",
    "plt.savefig(\"tv_show_ratings.png\")\n",
    "plt.show()"
   ]
  }
 ],
 "metadata": {
  "kernelspec": {
   "display_name": "Python 3",
   "language": "python",
   "name": "python3"
  },
  "language_info": {
   "codemirror_mode": {
    "name": "ipython",
    "version": 3
   },
   "file_extension": ".py",
   "mimetype": "text/x-python",
   "name": "python",
   "nbconvert_exporter": "python",
   "pygments_lexer": "ipython3",
   "version": "3.7.3"
  }
 },
 "nbformat": 4,
 "nbformat_minor": 4
}
