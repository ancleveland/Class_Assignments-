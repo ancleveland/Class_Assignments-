{
 "cells": [
  {
   "cell_type": "code",
   "execution_count": 2,
   "metadata": {},
   "outputs": [],
   "source": [
    "# Dependencies\n",
    "import json\n",
    "import requests "
   ]
  },
  {
   "cell_type": "code",
   "execution_count": 3,
   "metadata": {},
   "outputs": [
    {
     "name": "stdout",
     "output_type": "stream",
     "text": [
      "200\n"
     ]
    }
   ],
   "source": [
    "# Specify the URL\n",
    "url = \"http://nyt-mongo-scraper.herokuapp.com/api/headlines\"\n",
    "\n",
    "# Make request and store response\n",
    "response = requests.get(url)\n",
    "\n",
    "# Print status code\n",
    "print(response.status_code)"
   ]
  },
  {
   "cell_type": "code",
   "execution_count": 4,
   "metadata": {},
   "outputs": [],
   "source": [
    "# JSON-ify response\n",
    "response_json = response.json()"
   ]
  },
  {
   "cell_type": "code",
   "execution_count": 5,
   "metadata": {
    "scrolled": true
   },
   "outputs": [
    {
     "name": "stdout",
     "output_type": "stream",
     "text": [
      "The first response is {\n",
      "  \"saved\": true,\n",
      "  \"_id\": \"5d800984a4315f0015223e22\",\n",
      "  \"headline\": \"Where Mexican Folk Ballads Meet Trap Music\",\n",
      "  \"summary\": \"\\u201cTrapcorridos\\u201d \\u2014 tales of love, bandits, heroes and gangsters \\u2014 are a sensation in California and Mexico.\",\n",
      "  \"url\": \"https://www.nytimes.com/2019/09/16/style/trapcorridos-chicano-los-angeles.html\",\n",
      "  \"date\": \"2019-09-16T22:15:32.326Z\",\n",
      "  \"__v\": 0\n",
      "}.\n",
      "The last response is {\n",
      "  \"saved\": false,\n",
      "  \"_id\": \"5d7f9193b87d810015a7445c\",\n",
      "  \"headline\": \"Houthi Forces in Yemen Warn of More Attacks on Saudi Oil SystemsThe attacks had a short-term impact on oil prices, but a severe shock to energy markets and the world economy is unlikely.\",\n",
      "  \"summary\": \"American officials have blamed Iran for the attacks that slashed Saudi production, but the Houthi faction, allied with Iran, claimed responsibility.\",\n",
      "  \"url\": \"https://www.nytimes.com/2019/09/16/world/middleeast/houthis-yemen-saudi-arabia-warning.html\",\n",
      "  \"date\": \"2019-09-16T13:43:47.327Z\",\n",
      "  \"__v\": 0\n",
      "}.\n"
     ]
    }
   ],
   "source": [
    "# Print first and last articles\n",
    "print(f\"The first response is {json.dumps(response_json[0], indent=2)}.\")\n",
    "print(f\"The last response is {json.dumps(response_json[-1], indent=2)}.\")"
   ]
  },
  {
   "cell_type": "code",
   "execution_count": 6,
   "metadata": {},
   "outputs": [
    {
     "name": "stdout",
     "output_type": "stream",
     "text": [
      "We received 26 responses.\n"
     ]
    }
   ],
   "source": [
    "print(f\"We received {len(response_json)} responses.\")"
   ]
  }
 ],
 "metadata": {
  "kernelspec": {
   "display_name": "Python 3",
   "language": "python",
   "name": "python3"
  },
  "language_info": {
   "codemirror_mode": {
    "name": "ipython",
    "version": 3
   },
   "file_extension": ".py",
   "mimetype": "text/x-python",
   "name": "python",
   "nbconvert_exporter": "python",
   "pygments_lexer": "ipython3",
   "version": "3.7.3"
  },
  "varInspector": {
   "cols": {
    "lenName": 16,
    "lenType": 16,
    "lenVar": 40
   },
   "kernels_config": {
    "python": {
     "delete_cmd_postfix": "",
     "delete_cmd_prefix": "del ",
     "library": "var_list.py",
     "varRefreshCmd": "print(var_dic_list())"
    },
    "r": {
     "delete_cmd_postfix": ") ",
     "delete_cmd_prefix": "rm(",
     "library": "var_list.r",
     "varRefreshCmd": "cat(var_dic_list()) "
    }
   },
   "types_to_exclude": [
    "module",
    "function",
    "builtin_function_or_method",
    "instance",
    "_Feature"
   ],
   "window_display": false
  }
 },
 "nbformat": 4,
 "nbformat_minor": 4
}
