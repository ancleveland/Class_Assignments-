{
 "cells": [
  {
   "cell_type": "code",
   "execution_count": 16,
   "metadata": {},
   "outputs": [],
   "source": [
    "# Dependencies\n",
    "import json\n",
    "import os\n",
    "from pprint import pprint\n",
    "\n",
    "\n",
    "# Load JSON\n",
    "filepath = os.path.join(\"..\", \"Resources\", \"youtube_response.json\")\n",
    "with open(filepath) as jsonfile:\n",
    "    video_json = json.load(jsonfile)"
   ]
  },
  {
   "cell_type": "code",
   "execution_count": 17,
   "metadata": {},
   "outputs": [
    {
     "name": "stdout",
     "output_type": "stream",
     "text": [
      "{'apiVersion': '2.0',\n",
      " 'data': {'items': [{'accessControl': {'comment': 'allowed',\n",
      "                                       'commentVote': 'allowed',\n",
      "                                       'embed': 'allowed',\n",
      "                                       'list': 'allowed',\n",
      "                                       'rate': 'allowed',\n",
      "                                       'syndicate': 'allowed',\n",
      "                                       'videoRespond': 'moderated'},\n",
      "                     'aspectRatio': 'widescreen',\n",
      "                     'category': 'News',\n",
      "                     'commentCount': 22,\n",
      "                     'content': {'1': 'rtsp://v5.cache3.c.youtube.com/CiILENy.../0/0/0/video.3gp',\n",
      "                                 '5': 'http://www.youtube.com/v/hYB0mn5zh2c?f...',\n",
      "                                 '6': 'rtsp://v1.cache1.c.youtube.com/CiILENy.../0/0/0/video.3gp'},\n",
      "                     'description': 'Google Maps API Introduction ...',\n",
      "                     'duration': 2840,\n",
      "                     'favoriteCount': 201,\n",
      "                     'id': 'hYB0mn5zh2c',\n",
      "                     'player': {'default': 'http://www.youtube.com/watch?vu003dhYB0mn5zh2c'},\n",
      "                     'rating': 4.63,\n",
      "                     'ratingCount': 68,\n",
      "                     'status': {'reason': 'limitedSyndication',\n",
      "                                'value': 'restricted'},\n",
      "                     'tags': ['GDD07', 'GDD07US', 'Maps'],\n",
      "                     'thumbnail': {'default': 'http://i.ytimg.com/vi/hYB0mn5zh2c/default.jpg',\n",
      "                                   'hqDefault': 'http://i.ytimg.com/vi/hYB0mn5zh2c/hqdefault.jpg'},\n",
      "                     'title': 'Google Developers Day US - Maps API '\n",
      "                              'Introduction',\n",
      "                     'updated': '2010-01-07T13:26:50.000Z',\n",
      "                     'uploaded': '2007-06-05T22:07:03.000Z',\n",
      "                     'uploader': 'GoogleDeveloperDay',\n",
      "                     'viewCount': 220101}],\n",
      "          'itemsPerPage': 1,\n",
      "          'startIndex': 1,\n",
      "          'totalItems': 800,\n",
      "          'updated': '2010-01-07T19:58:42.949Z'}}\n"
     ]
    }
   ],
   "source": [
    "pprint(video_json)"
   ]
  },
  {
   "cell_type": "code",
   "execution_count": 14,
   "metadata": {},
   "outputs": [
    {
     "name": "stdout",
     "output_type": "stream",
     "text": [
      "{'apiVersion': '2.0', 'data': {'updated': '2010-01-07T19:58:42.949Z', 'totalItems': 800, 'startIndex': 1, 'itemsPerPage': 1, 'items': [{'id': 'hYB0mn5zh2c', 'uploaded': '2007-06-05T22:07:03.000Z', 'updated': '2010-01-07T13:26:50.000Z', 'uploader': 'GoogleDeveloperDay', 'category': 'News', 'title': 'Google Developers Day US - Maps API Introduction', 'description': 'Google Maps API Introduction ...', 'tags': ['GDD07', 'GDD07US', 'Maps'], 'thumbnail': {'default': 'http://i.ytimg.com/vi/hYB0mn5zh2c/default.jpg', 'hqDefault': 'http://i.ytimg.com/vi/hYB0mn5zh2c/hqdefault.jpg'}, 'player': {'default': 'http://www.youtube.com/watch?vu003dhYB0mn5zh2c'}, 'content': {'1': 'rtsp://v5.cache3.c.youtube.com/CiILENy.../0/0/0/video.3gp', '5': 'http://www.youtube.com/v/hYB0mn5zh2c?f...', '6': 'rtsp://v1.cache1.c.youtube.com/CiILENy.../0/0/0/video.3gp'}, 'duration': 2840, 'aspectRatio': 'widescreen', 'rating': 4.63, 'ratingCount': 68, 'viewCount': 220101, 'favoriteCount': 201, 'commentCount': 22, 'status': {'value': 'restricted', 'reason': 'limitedSyndication'}, 'accessControl': {'syndicate': 'allowed', 'commentVote': 'allowed', 'rate': 'allowed', 'list': 'allowed', 'comment': 'allowed', 'embed': 'allowed', 'videoRespond': 'moderated'}}]}}\n"
     ]
    }
   ],
   "source": [
    "print(video_json)"
   ]
  },
  {
   "cell_type": "code",
   "execution_count": 2,
   "metadata": {},
   "outputs": [
    {
     "name": "stdout",
     "output_type": "stream",
     "text": [
      "Title:  Google Developers Day US - Maps API Introduction\n"
     ]
    }
   ],
   "source": [
    "# Isolate \"data items\" for easy reading\n",
    "data = video_json[\"data\"]\n",
    "data_items = data[\"items\"]\n",
    "\n",
    "# Retrieve the video's title\n",
    "title = data_items[0][\"title\"]\n",
    "print(\"Title: \", title)"
   ]
  },
  {
   "cell_type": "code",
   "execution_count": 3,
   "metadata": {},
   "outputs": [
    {
     "name": "stdout",
     "output_type": "stream",
     "text": [
      "Rating: 4.63\n"
     ]
    }
   ],
   "source": [
    "# Retrieve the video's rating\n",
    "rating = data_items[0][\"rating\"]\n",
    "print(\"Rating:\", rating)"
   ]
  },
  {
   "cell_type": "code",
   "execution_count": 4,
   "metadata": {},
   "outputs": [
    {
     "name": "stdout",
     "output_type": "stream",
     "text": [
      "Thumbnail:  http://i.ytimg.com/vi/hYB0mn5zh2c/default.jpg\n"
     ]
    }
   ],
   "source": [
    "# Retrieve the link to the video's default thumbnail\n",
    "default_thumbnail = data_items[0][\"thumbnail\"][\"default\"]\n",
    "print(\"Thumbnail: \", default_thumbnail)"
   ]
  },
  {
   "cell_type": "code",
   "execution_count": 5,
   "metadata": {},
   "outputs": [
    {
     "name": "stdout",
     "output_type": "stream",
     "text": [
      "View count: 220101\n"
     ]
    }
   ],
   "source": [
    "# Retrieve the number of views this video has\n",
    "view_count = data_items[0][\"viewCount\"]\n",
    "print(f\"View count: {view_count}\")"
   ]
  },
  {
   "cell_type": "code",
   "execution_count": 3,
   "metadata": {},
   "outputs": [
    {
     "name": "stdout",
     "output_type": "stream",
     "text": [
      "View count: 220101\n"
     ]
    }
   ],
   "source": [
    "# Retrieve the number of views this video has\n",
    "view_count = data_items[0][\"viewCount\"]\n",
    "print(f\"View count: {view_count}\")"
   ]
  }
 ],
 "metadata": {
  "kernelspec": {
   "display_name": "Python 3",
   "language": "python",
   "name": "python3"
  },
  "language_info": {
   "codemirror_mode": {
    "name": "ipython",
    "version": 3
   },
   "file_extension": ".py",
   "mimetype": "text/x-python",
   "name": "python",
   "nbconvert_exporter": "python",
   "pygments_lexer": "ipython3",
   "version": "3.7.3"
  },
  "varInspector": {
   "cols": {
    "lenName": 16,
    "lenType": 16,
    "lenVar": 40
   },
   "kernels_config": {
    "python": {
     "delete_cmd_postfix": "",
     "delete_cmd_prefix": "del ",
     "library": "var_list.py",
     "varRefreshCmd": "print(var_dic_list())"
    },
    "r": {
     "delete_cmd_postfix": ") ",
     "delete_cmd_prefix": "rm(",
     "library": "var_list.r",
     "varRefreshCmd": "cat(var_dic_list()) "
    }
   },
   "types_to_exclude": [
    "module",
    "function",
    "builtin_function_or_method",
    "instance",
    "_Feature"
   ],
   "window_display": false
  }
 },
 "nbformat": 4,
 "nbformat_minor": 4
}
