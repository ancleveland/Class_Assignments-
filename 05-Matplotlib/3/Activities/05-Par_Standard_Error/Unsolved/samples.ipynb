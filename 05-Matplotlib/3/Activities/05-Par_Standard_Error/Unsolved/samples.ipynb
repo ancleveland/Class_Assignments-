{
 "cells": [
  {
   "cell_type": "code",
   "execution_count": 2,
   "metadata": {},
   "outputs": [],
   "source": [
    "# Dependencies\n",
    "from matplotlib import pyplot as plt\n",
    "import numpy as np\n",
    "import pandas as pd\n",
    "from sklearn.datasets import load_boston\n",
    "from scipy.stats import sem"
   ]
  },
  {
   "cell_type": "code",
   "execution_count": 3,
   "metadata": {},
   "outputs": [],
   "source": [
    "# Import the Boston housing data set from sklearn and get description\n",
    "boston_dataset = load_boston()"
   ]
  },
  {
   "cell_type": "code",
   "execution_count": 5,
   "metadata": {},
   "outputs": [],
   "source": [
    "# Read Boston housing data into a Pandas dataframe\n",
    "housing_data = pd.DataFrame(data=boston_dataset.data,columns=boston_dataset.feature_names)\n",
    "housing_data['MEDV'] = boston_dataset.target"
   ]
  },
  {
   "cell_type": "code",
   "execution_count": 6,
   "metadata": {},
   "outputs": [],
   "source": [
    "\n",
    "# Create a sample set of 10, each with 30 vehicles\n",
    "#vehicle_sample_set = [fuel_economy.sample(30) for x in range(0,10)]\n",
    "\n",
    "# Create a bunch of samples, each with sample size of 20\n",
    "# Create a bunch of samples, each with sample size of 20\n",
    "nsamples = 25\n",
    "div = 20\n",
    "samples = [housing_data.sample(div) for x in range(0,nsamples)]"
   ]
  },
  {
   "cell_type": "code",
   "execution_count": 7,
   "metadata": {},
   "outputs": [],
   "source": [
    "# Calculate standard error of means\n",
    "\n",
    "# Calculate means\n",
    "means = [s.MEDV.mean() for s in samples]\n",
    "# Calculate standard error on means\n",
    "sems = [sem(s.MEDV) for s in samples]"
   ]
  },
  {
   "cell_type": "code",
   "execution_count": 8,
   "metadata": {},
   "outputs": [
    {
     "data": {
      "text/plain": [
       "[1.5076035357654982,\n",
       " 2.012697849052099,\n",
       " 2.158478996642628,\n",
       " 2.3249380297343976,\n",
       " 1.739562860999401,\n",
       " 1.878146833002092,\n",
       " 2.093378973410163,\n",
       " 2.2749467894297752,\n",
       " 2.9525410554657023,\n",
       " 2.0266890291933373,\n",
       " 2.1804064686248417,\n",
       " 2.283004714475156,\n",
       " 1.759163976079786,\n",
       " 2.1027209815655024,\n",
       " 2.85469050769726,\n",
       " 2.5197689430413632,\n",
       " 1.9305149981014744,\n",
       " 1.8944295072381914,\n",
       " 2.1470331426853835,\n",
       " 1.420046329859476,\n",
       " 1.5059683892677445,\n",
       " 2.475648506213228,\n",
       " 2.413694209472713,\n",
       " 1.6305032319727808,\n",
       " 2.760858705090444]"
      ]
     },
     "execution_count": 8,
     "metadata": {},
     "output_type": "execute_result"
    }
   ],
   "source": [
    "sems"
   ]
  },
  {
   "cell_type": "code",
   "execution_count": null,
   "metadata": {},
   "outputs": [],
   "source": [
    "# Determine which sample's mean is closest to the population mean\n",
    "\n"
   ]
  },
  {
   "cell_type": "code",
   "execution_count": null,
   "metadata": {},
   "outputs": [],
   "source": [
    "# Compare to the population mean"
   ]
  },
  {
   "cell_type": "code",
   "execution_count": null,
   "metadata": {},
   "outputs": [],
   "source": [
    "# Plot sample means with error bars"
   ]
  }
 ],
 "metadata": {
  "kernelspec": {
   "display_name": "Python 3",
   "language": "python",
   "name": "python3"
  },
  "language_info": {
   "codemirror_mode": {
    "name": "ipython",
    "version": 3
   },
   "file_extension": ".py",
   "mimetype": "text/x-python",
   "name": "python",
   "nbconvert_exporter": "python",
   "pygments_lexer": "ipython3",
   "version": "3.7.3"
  }
 },
 "nbformat": 4,
 "nbformat_minor": 4
}
