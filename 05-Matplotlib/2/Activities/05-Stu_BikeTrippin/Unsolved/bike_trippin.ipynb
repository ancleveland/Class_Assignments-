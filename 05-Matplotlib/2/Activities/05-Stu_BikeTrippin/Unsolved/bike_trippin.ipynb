{
 "cells": [
  {
   "cell_type": "markdown",
   "metadata": {},
   "source": [
    "# Bike Trippin\n",
    "\n",
    "For this assignment, you will be taking \"Cycle Share\" data from Seattle and creating charts to determine which gender borrows and uses bikes more often.\n",
    "\n",
    "* Import your dependencies and then import your data into a pandas data frame from the CSV within the 'Data' folder\n",
    "* Split up your data into groups based upon the gender column\n",
    "    * NOTE: There will be a garbage row with a gender of 'stoptime' which you will have to remove!\n",
    "* Chart your data using a bar graph, giving it both a title and labels for the axes"
   ]
  },
  {
   "cell_type": "code",
   "execution_count": null,
   "metadata": {},
   "outputs": [],
   "source": [
    "%matplotlib inline"
   ]
  },
  {
   "cell_type": "code",
   "execution_count": 4,
   "metadata": {},
   "outputs": [],
   "source": [
    "# Import Dependencies\n",
    "import matplotlib.pyplot as plt\n",
    "import pandas as pd"
   ]
  },
  {
   "cell_type": "code",
   "execution_count": 7,
   "metadata": {},
   "outputs": [
    {
     "data": {
      "text/html": [
       "<div>\n",
       "<style scoped>\n",
       "    .dataframe tbody tr th:only-of-type {\n",
       "        vertical-align: middle;\n",
       "    }\n",
       "\n",
       "    .dataframe tbody tr th {\n",
       "        vertical-align: top;\n",
       "    }\n",
       "\n",
       "    .dataframe thead th {\n",
       "        text-align: right;\n",
       "    }\n",
       "</style>\n",
       "<table border=\"1\" class=\"dataframe\">\n",
       "  <thead>\n",
       "    <tr style=\"text-align: right;\">\n",
       "      <th></th>\n",
       "      <th>stoptime</th>\n",
       "      <th>bikeid</th>\n",
       "      <th>tripduration</th>\n",
       "      <th>from_station_name</th>\n",
       "      <th>to_station_name</th>\n",
       "      <th>from_station_id</th>\n",
       "      <th>to_station_id</th>\n",
       "      <th>usertype</th>\n",
       "      <th>gender</th>\n",
       "      <th>birthyear</th>\n",
       "    </tr>\n",
       "  </thead>\n",
       "  <tbody>\n",
       "    <tr>\n",
       "      <th>0</th>\n",
       "      <td>10/13/2014 10:48</td>\n",
       "      <td>SEA00298</td>\n",
       "      <td>985.935</td>\n",
       "      <td>2nd Ave &amp; Spring St</td>\n",
       "      <td>Occidental Park / Occidental Ave S &amp; S Washing...</td>\n",
       "      <td>CBD-06</td>\n",
       "      <td>PS-04</td>\n",
       "      <td>Member</td>\n",
       "      <td>Male</td>\n",
       "      <td>1960</td>\n",
       "    </tr>\n",
       "    <tr>\n",
       "      <th>1</th>\n",
       "      <td>10/13/2014 10:48</td>\n",
       "      <td>SEA00195</td>\n",
       "      <td>926.375</td>\n",
       "      <td>2nd Ave &amp; Spring St</td>\n",
       "      <td>Occidental Park / Occidental Ave S &amp; S Washing...</td>\n",
       "      <td>CBD-06</td>\n",
       "      <td>PS-04</td>\n",
       "      <td>Member</td>\n",
       "      <td>Male</td>\n",
       "      <td>1970</td>\n",
       "    </tr>\n",
       "    <tr>\n",
       "      <th>2</th>\n",
       "      <td>10/13/2014 10:48</td>\n",
       "      <td>SEA00486</td>\n",
       "      <td>883.831</td>\n",
       "      <td>2nd Ave &amp; Spring St</td>\n",
       "      <td>Occidental Park / Occidental Ave S &amp; S Washing...</td>\n",
       "      <td>CBD-06</td>\n",
       "      <td>PS-04</td>\n",
       "      <td>Member</td>\n",
       "      <td>Female</td>\n",
       "      <td>1988</td>\n",
       "    </tr>\n",
       "    <tr>\n",
       "      <th>3</th>\n",
       "      <td>10/13/2014 10:48</td>\n",
       "      <td>SEA00333</td>\n",
       "      <td>865.937</td>\n",
       "      <td>2nd Ave &amp; Spring St</td>\n",
       "      <td>Occidental Park / Occidental Ave S &amp; S Washing...</td>\n",
       "      <td>CBD-06</td>\n",
       "      <td>PS-04</td>\n",
       "      <td>Member</td>\n",
       "      <td>Female</td>\n",
       "      <td>1977</td>\n",
       "    </tr>\n",
       "    <tr>\n",
       "      <th>4</th>\n",
       "      <td>10/13/2014 10:49</td>\n",
       "      <td>SEA00202</td>\n",
       "      <td>923.923</td>\n",
       "      <td>2nd Ave &amp; Spring St</td>\n",
       "      <td>Occidental Park / Occidental Ave S &amp; S Washing...</td>\n",
       "      <td>CBD-06</td>\n",
       "      <td>PS-04</td>\n",
       "      <td>Member</td>\n",
       "      <td>Male</td>\n",
       "      <td>1971</td>\n",
       "    </tr>\n",
       "  </tbody>\n",
       "</table>\n",
       "</div>"
      ],
      "text/plain": [
       "           stoptime    bikeid  tripduration    from_station_name  \\\n",
       "0  10/13/2014 10:48  SEA00298       985.935  2nd Ave & Spring St   \n",
       "1  10/13/2014 10:48  SEA00195       926.375  2nd Ave & Spring St   \n",
       "2  10/13/2014 10:48  SEA00486       883.831  2nd Ave & Spring St   \n",
       "3  10/13/2014 10:48  SEA00333       865.937  2nd Ave & Spring St   \n",
       "4  10/13/2014 10:49  SEA00202       923.923  2nd Ave & Spring St   \n",
       "\n",
       "                                     to_station_name from_station_id  \\\n",
       "0  Occidental Park / Occidental Ave S & S Washing...          CBD-06   \n",
       "1  Occidental Park / Occidental Ave S & S Washing...          CBD-06   \n",
       "2  Occidental Park / Occidental Ave S & S Washing...          CBD-06   \n",
       "3  Occidental Park / Occidental Ave S & S Washing...          CBD-06   \n",
       "4  Occidental Park / Occidental Ave S & S Washing...          CBD-06   \n",
       "\n",
       "  to_station_id usertype  gender birthyear  \n",
       "0         PS-04   Member    Male      1960  \n",
       "1         PS-04   Member    Male      1970  \n",
       "2         PS-04   Member  Female      1988  \n",
       "3         PS-04   Member  Female      1977  \n",
       "4         PS-04   Member    Male      1971  "
      ]
     },
     "execution_count": 7,
     "metadata": {},
     "output_type": "execute_result"
    }
   ],
   "source": [
    "# Read CSV\n",
    "\n",
    "trip_data = (\"../Resources/trip.csv\") \n",
    "trip_df = pd.read_csv(trip_data, low_memory=False) \n",
    "trip_df.head()"
   ]
  },
  {
   "cell_type": "markdown",
   "metadata": {},
   "source": [
    "# Bonus!\n",
    "\n",
    "You will now take the same base data frame before and create some code that will allow you to create individual pie charts for each bike. For this part of the activity, we want you to chart the total 'Trip Duration' of each bike, sorted by gender. Bonus points if you can come up with a method to do this without using loc or iloc to filter the original data frame! You can use loc to filter group data though."
   ]
  },
  {
   "cell_type": "code",
   "execution_count": 13,
   "metadata": {},
   "outputs": [
    {
     "data": {
      "image/png": "[encoded data removed]",
      "text/plain": [
       "<Figure size 432x288 with 1 Axes>"
      ]
     },
     "metadata": {
      "needs_background": "light"
     },
     "output_type": "display_data"
    },
    {
     "data": {
      "text/plain": [
       "<Figure size 432x288 with 0 Axes>"
      ]
     },
     "metadata": {},
     "output_type": "display_data"
    }
   ],
   "source": [
    "# Split up our data into groups based upon 'gender'\n",
    "gender_groups = trip_df.groupby('gender')\n",
    "\n",
    "# Find out how many of each gender took bike trips\n",
    "gender_trips = gender_groups['tripduration'].count()\n",
    "\n",
    "# Drop the 'stoptime' row that is contained within our group\n",
    "gender_trips = gender_trips.drop(gender_trips.index[3])\n",
    "\n",
    "# Chart our data, give it a title, and label the axes\n",
    "gender_chart = gender_trips.plot(kind=\"bar\", title=\"Bike Trips by Gender\")\n",
    "gender_chart.set_xlabel(\"Gender\")\n",
    "gender_chart.set_ylabel(\"Number of Trips Taken\")\n",
    "\n",
    "plt.show()\n",
    "plt.tight_layout()"
   ]
  },
  {
   "cell_type": "code",
   "execution_count": 16,
   "metadata": {},
   "outputs": [
    {
     "data": {
      "text/html": [
       "<div>\n",
       "<style scoped>\n",
       "    .dataframe tbody tr th:only-of-type {\n",
       "        vertical-align: middle;\n",
       "    }\n",
       "\n",
       "    .dataframe tbody tr th {\n",
       "        vertical-align: top;\n",
       "    }\n",
       "\n",
       "    .dataframe thead th {\n",
       "        text-align: right;\n",
       "    }\n",
       "</style>\n",
       "<table border=\"1\" class=\"dataframe\">\n",
       "  <thead>\n",
       "    <tr style=\"text-align: right;\">\n",
       "      <th></th>\n",
       "      <th></th>\n",
       "      <th>tripduration</th>\n",
       "    </tr>\n",
       "    <tr>\n",
       "      <th>bikeid</th>\n",
       "      <th>gender</th>\n",
       "      <th></th>\n",
       "    </tr>\n",
       "  </thead>\n",
       "  <tbody>\n",
       "    <tr>\n",
       "      <th rowspan=\"3\" valign=\"top\">SEA00001</th>\n",
       "      <th>Female</th>\n",
       "      <td>15876.665</td>\n",
       "    </tr>\n",
       "    <tr>\n",
       "      <th>Male</th>\n",
       "      <td>41150.373</td>\n",
       "    </tr>\n",
       "    <tr>\n",
       "      <th>Other</th>\n",
       "      <td>276.880</td>\n",
       "    </tr>\n",
       "    <tr>\n",
       "      <th rowspan=\"3\" valign=\"top\">SEA00005</th>\n",
       "      <th>Female</th>\n",
       "      <td>20616.240</td>\n",
       "    </tr>\n",
       "    <tr>\n",
       "      <th>Male</th>\n",
       "      <td>60386.328</td>\n",
       "    </tr>\n",
       "    <tr>\n",
       "      <th>Other</th>\n",
       "      <td>1784.955</td>\n",
       "    </tr>\n",
       "    <tr>\n",
       "      <th rowspan=\"3\" valign=\"top\">SEA00006</th>\n",
       "      <th>Female</th>\n",
       "      <td>20071.004</td>\n",
       "    </tr>\n",
       "    <tr>\n",
       "      <th>Male</th>\n",
       "      <td>46584.453</td>\n",
       "    </tr>\n",
       "    <tr>\n",
       "      <th>Other</th>\n",
       "      <td>1469.839</td>\n",
       "    </tr>\n",
       "    <tr>\n",
       "      <th rowspan=\"3\" valign=\"top\">SEA00007</th>\n",
       "      <th>Female</th>\n",
       "      <td>9996.402</td>\n",
       "    </tr>\n",
       "    <tr>\n",
       "      <th>Male</th>\n",
       "      <td>16618.213</td>\n",
       "    </tr>\n",
       "    <tr>\n",
       "      <th>Other</th>\n",
       "      <td>1040.571</td>\n",
       "    </tr>\n",
       "  </tbody>\n",
       "</table>\n",
       "</div>"
      ],
      "text/plain": [
       "                 tripduration\n",
       "bikeid   gender              \n",
       "SEA00001 Female     15876.665\n",
       "         Male       41150.373\n",
       "         Other        276.880\n",
       "SEA00005 Female     20616.240\n",
       "         Male       60386.328\n",
       "         Other       1784.955\n",
       "SEA00006 Female     20071.004\n",
       "         Male       46584.453\n",
       "         Other       1469.839\n",
       "SEA00007 Female      9996.402\n",
       "         Male       16618.213\n",
       "         Other       1040.571"
      ]
     },
     "execution_count": 16,
     "metadata": {},
     "output_type": "execute_result"
    }
   ],
   "source": [
    "# Split up our data into groups based upon 'bikeid' and 'gender'\n",
    "bike_groups =trip_df.groupby(['bikeid','gender'])\n",
    "\n",
    "# Create a new variable that holds the sum of our groups\n",
    "sum_it_up = bike_groups.sum()\n",
    "sum_it_up.head(12)"
   ]
  },
  {
   "cell_type": "code",
   "execution_count": 17,
   "metadata": {},
   "outputs": [
    {
     "name": "stdout",
     "output_type": "stream",
     "text": [
      "        tripduration\n",
      "gender              \n",
      "Female     15876.665\n",
      "Male       41150.373\n",
      "Other        276.880\n"
     ]
    }
   ],
   "source": [
    "# Make a variable called bike_id and store a 'bikeid' in it\n",
    "bike_id = \"SEA00001\"\n",
    "\n",
    "# Collect the trips of the 'bikeid' above\n",
    "just_one_bike = sum_it_up.loc[bike_id]\n",
    "\n",
    "print(just_one_bike)"
   ]
  },
  {
   "cell_type": "code",
   "execution_count": 21,
   "metadata": {},
   "outputs": [
    {
     "data": {
      "image/png": "[encoded data removed]",
      "text/plain": [
       "<Figure size 432x288 with 1 Axes>"
      ]
     },
     "metadata": {},
     "output_type": "display_data"
    },
    {
     "data": {
      "text/plain": [
       "(-0.05, 1.05, -0.05, 1.05)"
      ]
     },
     "execution_count": 21,
     "metadata": {},
     "output_type": "execute_result"
    },
    {
     "data": {
      "image/png": "[encoded data removed]",
      "text/plain": [
       "<Figure size 432x288 with 1 Axes>"
      ]
     },
     "metadata": {
      "needs_background": "light"
     },
     "output_type": "display_data"
    }
   ],
   "source": [
    "# Place the gender keys for that single bike into a list\n",
    "gender_list = just_one_bike.keys()\n",
    "\n",
    "# Create a pie chart based upon the trip duration of that single bike\n",
    "bike_pie = just_one_bike.plot(kind=\"pie\", y=gender_list, title=(\"Trips of \" + bike_id))\n",
    "bike_pie.set_ylabel(\"Trip Duration\")\n",
    "\n",
    "plt.show()\n",
    "plt.tight_layout()\n",
    "plt.axis(\"equal\")"
   ]
  }
 ],
 "metadata": {
  "kernelspec": {
   "display_name": "Python 3",
   "language": "python",
   "name": "python3"
  },
  "language_info": {
   "codemirror_mode": {
    "name": "ipython",
    "version": 3
   },
   "file_extension": ".py",
   "mimetype": "text/x-python",
   "name": "python",
   "nbconvert_exporter": "python",
   "pygments_lexer": "ipython3",
   "version": "3.7.3"
  }
 },
 "nbformat": 4,
 "nbformat_minor": 4
}
